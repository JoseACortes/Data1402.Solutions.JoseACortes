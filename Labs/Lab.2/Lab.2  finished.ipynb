{
 "cells": [
  {
   "cell_type": "markdown",
   "metadata": {},
   "source": [
    "# Lab 2\n",
    "\n",
    "There will be several parts to the lab this week. The assumption from now on is that you will be working on a Unix environment (e.g. Linux, Mac OS, or Windows Linux Subsystem), switching between running commands in a shell running in a terminal or in a Jupyter Notebook. If you don't know how to perform a task, you are expected to search online for instructions and ask for help after a serious attempt to find the solution yourself. \n"
   ]
  },
  {
   "cell_type": "markdown",
   "metadata": {},
   "source": [
    "## Exercise 1: Setup\n",
    "\n",
    "Perform the following tasks (in a terminal):\n",
    "\n",
    "* In your computer, create a new class directory where you will from now on keep all of the work related to this class.\n",
    "\n",
    "* Fork the class repository. You can for example directions in [fork-a-repo](https://docs.github.com/en/github/getting-started-with-github/fork-a-repo). Please keep your fork private.\n",
    "\n",
    "* Invite Dr. Farbin to your fork of the course repository.\n",
    "\n",
    "* Clone your fork into your new class directory.\n",
    "\n",
    "* Using `git remote`, set the upstream to be the class repo, so you can pull from the class and push to your fork.\n",
    "\n",
    "\n",
    "Some useful commands:\n",
    "\n",
    "* Git help: `git help`\n",
    "* Git remote help: `git help remote`\n",
    "* Check remote status: `git remote -v`\n",
    "* Add a remote: `git remote add <stream name> <repo URL>`\n",
    "* Add a remove: `git remote remove <stream name>`\n",
    "\n"
   ]
  },
  {
   "cell_type": "markdown",
   "metadata": {},
   "source": [
    "## Exercise 2: Reading\n",
    "\n",
    "### HiggsML\n",
    "In 2014, some of my colleagues from the ATLAS experiment put together a Higgs Machine Learning Challenge, which was hosted on [Kaggle](https://www.kaggle.com). Please read sections 1 and 3 (skip/skim 2) of [The HiggsML Technical Documentation](https://higgsml.lal.in2p3.fr/files/2014/04/documentation_v1.8.pdf). \n",
    "\n",
    "Kaggle is a platform for data science competitions, with cash awards for winners. Kaggle currently hosts over 50,000 public datasets and associated competitions. Later in the course we will look at a variety of problems hosted on Kaggle and similar platforms. \n",
    "\n",
    "### SUSY Dataset\n",
    "\n",
    "For the next few labs we will use datasets used in the [first paper on Deep Learning in High Energy physics](https://arxiv.org/pdf/1402.4735.pdf). Please read up to the \"Deep Learning\" section (end of page 5). This paper demonstrates that Deep Neural Networks can learn from raw data the features that are typically used by physicists for searches for exotics particles. The authors provide the data they used for this paper. They considered two benchmark scenarios: Higgs and SUSY."
   ]
  },
  {
   "cell_type": "markdown",
   "metadata": {},
   "source": [
    "## Exercise 3: SUSY Dataset\n",
    "\n",
    "The information about the dataset can be found at the [UCI Machine Learning Repository](https://archive.ics.uci.edu/ml/index.php). We'll start with the [SUSY Dataset](https://archive.ics.uci.edu/ml/datasets/SUSY). \n",
    "\n",
    "### Download\n",
    "In a terminal, download the data directly from the source and then decompress it. For example:"
   ]
  },
  {
   "cell_type": "markdown",
   "metadata": {},
   "source": [
    "* To download:\n",
    "    * On Mac OS: \n",
    "    `curl http://archive.ics.uci.edu/ml/machine-learning-databases/00279/SUSY.csv.gz > SUSY.csv.gz`\n",
    "\n",
    "    * In linux:\n",
    "    `wget http://archive.ics.uci.edu/ml/machine-learning-databases/00279/SUSY.csv.gz`\n",
    "\n",
    "* To uncompress:\n",
    "`gunzip SUSY.csv.gz`"
   ]
  },
  {
   "cell_type": "code",
   "execution_count": 1,
   "metadata": {},
   "outputs": [],
   "source": [
    "#curl http://archive.ics.uci.edu/ml/machine-learning-databases/00279/SUSY.csv.gz > SUSY.csv.gz"
   ]
  },
  {
   "cell_type": "code",
   "execution_count": 2,
   "metadata": {},
   "outputs": [],
   "source": [
    "#gunzip SUSY.csv.gz"
   ]
  },
  {
   "cell_type": "markdown",
   "metadata": {},
   "source": [
    "The data is provided as a comma separated file."
   ]
  },
  {
   "cell_type": "code",
   "execution_count": 2,
   "metadata": {
    "collapsed": true
   },
   "outputs": [
    {
     "name": "stdout",
     "output_type": "stream",
     "text": [
      "0.000000000000000000e+00,9.728614687919616699e-01,6.538545489311218262e-01,1.176224589347839355e+00,1.157156467437744141e+00,-1.739873170852661133e+00,-8.743090629577636719e-01,5.677649974822998047e-01,-1.750000417232513428e-01,8.100607395172119141e-01,-2.525521218776702881e-01,1.921887040138244629e+00,8.896374106407165527e-01,4.107718467712402344e-01,1.145620822906494141e+00,1.932632088661193848e+00,9.944640994071960449e-01,1.367815494537353516e+00,4.071449860930442810e-02\r\n",
      "1.000000000000000000e+00,1.667973041534423828e+00,6.419061869382858276e-02,-1.225171446800231934e+00,5.061022043228149414e-01,-3.389389812946319580e-01,1.672542810440063477e+00,3.475464344024658203e+00,-1.219136357307434082e+00,1.295456290245056152e-02,3.775173664093017578e+00,1.045977115631103516e+00,5.680512785911560059e-01,4.819284379482269287e-01,0.000000000000000000e+00,4.484102725982666016e-01,2.053557634353637695e-01,1.321893453598022461e+00,3.775840103626251221e-01\r\n",
      "1.000000000000000000e+00,4.448399245738983154e-01,-1.342980116605758667e-01,-7.099716067314147949e-01,4.517189264297485352e-01,-1.613871216773986816e+00,-7.686609029769897461e-01,1.219918131828308105e+00,5.040258169174194336e-01,1.831247568130493164e+00,-4.313853085041046143e-01,5.262832045555114746e-01,9.415140151977539062e-01,1.587535023689270020e+00,2.024308204650878906e+00,6.034975647926330566e-01,1.562373995780944824e+00,1.135454416275024414e+00,1.809100061655044556e-01\r\n",
      "1.000000000000000000e+00,3.812560737133026123e-01,-9.761453866958618164e-01,6.931523084640502930e-01,4.489588439464569092e-01,8.917528986930847168e-01,-6.773284673690795898e-01,2.033060073852539062e+00,1.533040523529052734e+00,3.046259880065917969e+00,-1.005284786224365234e+00,5.693860650062561035e-01,1.015211343765258789e+00,1.582216739654541016e+00,1.551914215087890625e+00,7.612152099609375000e-01,1.715463757514953613e+00,1.492256760597229004e+00,9.071890264749526978e-02\r\n",
      "1.000000000000000000e+00,1.309996485710144043e+00,-6.900894641876220703e-01,-6.762592792510986328e-01,1.589282631874084473e+00,-6.933256387710571289e-01,6.229069828987121582e-01,1.087561845779418945e+00,-3.817416727542877197e-01,5.892043709754943848e-01,1.365478992462158203e+00,1.179295063018798828e+00,9.682182073593139648e-01,7.285631299018859863e-01,0.000000000000000000e+00,1.083157896995544434e+00,4.342924803495407104e-02,1.154853701591491699e+00,9.485860168933868408e-02\r\n"
     ]
    }
   ],
   "source": [
    "filename=\"../../../Data/SUSY.csv\"\n",
    "# print out the first 5 lines using unix head command\n",
    "!head -5  ../../../Data/SUSY.csv"
   ]
  },
  {
   "cell_type": "markdown",
   "metadata": {},
   "source": [
    "### First Look\n",
    "\n",
    "Each row represents a LHC collision event. Each column contains some observable from that event. The variable names are ([based on documentation](https://archive.ics.uci.edu/ml/datasets/SUSY)):"
   ]
  },
  {
   "cell_type": "code",
   "execution_count": 3,
   "metadata": {},
   "outputs": [],
   "source": [
    "VarNames=[\"signal\", \"l_1_pT\", \"l_1_eta\",\"l_1_phi\", \"l_2_pT\", \"l_2_eta\", \"l_2_phi\", \"MET\", \"MET_phi\", \"MET_rel\", \"axial_MET\", \"M_R\", \"M_TR_2\", \"R\", \"MT2\", \"S_R\", \"M_Delta_R\", \"dPhi_r_b\", \"cos_theta_r1\"]"
   ]
  },
  {
   "cell_type": "markdown",
   "metadata": {},
   "source": [
    "Some of these variables represent the \"raw\" kinematics of the observed final state particles, while others are \"features\" that are derived from these raw quantities:"
   ]
  },
  {
   "cell_type": "code",
   "execution_count": 5,
   "metadata": {},
   "outputs": [
    {
     "data": {
      "text/plain": [
       "19"
      ]
     },
     "execution_count": 5,
     "metadata": {},
     "output_type": "execute_result"
    }
   ],
   "source": [
    "len(VarNames)"
   ]
  },
  {
   "cell_type": "code",
   "execution_count": 4,
   "metadata": {},
   "outputs": [],
   "source": [
    "RawNames=[\"l_1_pT\", \"l_1_eta\",\"l_1_phi\", \"l_2_pT\", \"l_2_eta\", \"l_2_phi\", \"MET\", \"MET_phi\"]\n",
    "FeatureNames=list(set(VarNames[1:]).difference(RawNames))"
   ]
  },
  {
   "cell_type": "code",
   "execution_count": 6,
   "metadata": {},
   "outputs": [
    {
     "data": {
      "text/plain": [
       "['l_1_pT',\n",
       " 'l_1_eta',\n",
       " 'l_1_phi',\n",
       " 'l_2_pT',\n",
       " 'l_2_eta',\n",
       " 'l_2_phi',\n",
       " 'MET',\n",
       " 'MET_phi']"
      ]
     },
     "execution_count": 6,
     "metadata": {},
     "output_type": "execute_result"
    }
   ],
   "source": [
    "RawNames"
   ]
  },
  {
   "cell_type": "code",
   "execution_count": 7,
   "metadata": {},
   "outputs": [
    {
     "data": {
      "text/plain": [
       "['R',\n",
       " 'cos_theta_r1',\n",
       " 'M_TR_2',\n",
       " 'MET_rel',\n",
       " 'M_R',\n",
       " 'MT2',\n",
       " 'dPhi_r_b',\n",
       " 'axial_MET',\n",
       " 'M_Delta_R',\n",
       " 'S_R']"
      ]
     },
     "execution_count": 7,
     "metadata": {},
     "output_type": "execute_result"
    }
   ],
   "source": [
    "FeatureNames"
   ]
  },
  {
   "cell_type": "markdown",
   "metadata": {},
   "source": [
    "We will use pandas to read in the file, and matplotlib to make plots. The following ensures pandas is installed and sets everything up:"
   ]
  },
  {
   "cell_type": "code",
   "execution_count": 6,
   "metadata": {},
   "outputs": [],
   "source": [
    "import pandas as pd\n",
    "import matplotlib.pyplot as plt\n",
    "%matplotlib inline"
   ]
  },
  {
   "cell_type": "markdown",
   "metadata": {},
   "source": [
    "Now we can read the data into a pandas dataframe:"
   ]
  },
  {
   "cell_type": "code",
   "execution_count": 7,
   "metadata": {},
   "outputs": [],
   "source": [
    "df = pd.read_csv(filename, dtype='float64', names=VarNames)"
   ]
  },
  {
   "cell_type": "markdown",
   "metadata": {},
   "source": [
    "You can see the data in Jupyter by just evaluateing the dataframe:"
   ]
  },
  {
   "cell_type": "code",
   "execution_count": 10,
   "metadata": {},
   "outputs": [
    {
     "data": {
      "text/html": [
       "<div>\n",
       "<style scoped>\n",
       "    .dataframe tbody tr th:only-of-type {\n",
       "        vertical-align: middle;\n",
       "    }\n",
       "\n",
       "    .dataframe tbody tr th {\n",
       "        vertical-align: top;\n",
       "    }\n",
       "\n",
       "    .dataframe thead th {\n",
       "        text-align: right;\n",
       "    }\n",
       "</style>\n",
       "<table border=\"1\" class=\"dataframe\">\n",
       "  <thead>\n",
       "    <tr style=\"text-align: right;\">\n",
       "      <th></th>\n",
       "      <th>signal</th>\n",
       "      <th>l_1_pT</th>\n",
       "      <th>l_1_eta</th>\n",
       "      <th>l_1_phi</th>\n",
       "      <th>l_2_pT</th>\n",
       "      <th>l_2_eta</th>\n",
       "      <th>l_2_phi</th>\n",
       "      <th>MET</th>\n",
       "      <th>MET_phi</th>\n",
       "      <th>MET_rel</th>\n",
       "      <th>axial_MET</th>\n",
       "      <th>M_R</th>\n",
       "      <th>M_TR_2</th>\n",
       "      <th>R</th>\n",
       "      <th>MT2</th>\n",
       "      <th>S_R</th>\n",
       "      <th>M_Delta_R</th>\n",
       "      <th>dPhi_r_b</th>\n",
       "      <th>cos_theta_r1</th>\n",
       "    </tr>\n",
       "  </thead>\n",
       "  <tbody>\n",
       "    <tr>\n",
       "      <th>0</th>\n",
       "      <td>0.0</td>\n",
       "      <td>0.972861</td>\n",
       "      <td>0.653855</td>\n",
       "      <td>1.176225</td>\n",
       "      <td>1.157156</td>\n",
       "      <td>-1.739873</td>\n",
       "      <td>-0.874309</td>\n",
       "      <td>0.567765</td>\n",
       "      <td>-0.175000</td>\n",
       "      <td>0.810061</td>\n",
       "      <td>-0.252552</td>\n",
       "      <td>1.921887</td>\n",
       "      <td>0.889637</td>\n",
       "      <td>0.410772</td>\n",
       "      <td>1.145621</td>\n",
       "      <td>1.932632</td>\n",
       "      <td>0.994464</td>\n",
       "      <td>1.367815</td>\n",
       "      <td>0.040714</td>\n",
       "    </tr>\n",
       "    <tr>\n",
       "      <th>1</th>\n",
       "      <td>1.0</td>\n",
       "      <td>1.667973</td>\n",
       "      <td>0.064191</td>\n",
       "      <td>-1.225171</td>\n",
       "      <td>0.506102</td>\n",
       "      <td>-0.338939</td>\n",
       "      <td>1.672543</td>\n",
       "      <td>3.475464</td>\n",
       "      <td>-1.219136</td>\n",
       "      <td>0.012955</td>\n",
       "      <td>3.775174</td>\n",
       "      <td>1.045977</td>\n",
       "      <td>0.568051</td>\n",
       "      <td>0.481928</td>\n",
       "      <td>0.000000</td>\n",
       "      <td>0.448410</td>\n",
       "      <td>0.205356</td>\n",
       "      <td>1.321893</td>\n",
       "      <td>0.377584</td>\n",
       "    </tr>\n",
       "    <tr>\n",
       "      <th>2</th>\n",
       "      <td>1.0</td>\n",
       "      <td>0.444840</td>\n",
       "      <td>-0.134298</td>\n",
       "      <td>-0.709972</td>\n",
       "      <td>0.451719</td>\n",
       "      <td>-1.613871</td>\n",
       "      <td>-0.768661</td>\n",
       "      <td>1.219918</td>\n",
       "      <td>0.504026</td>\n",
       "      <td>1.831248</td>\n",
       "      <td>-0.431385</td>\n",
       "      <td>0.526283</td>\n",
       "      <td>0.941514</td>\n",
       "      <td>1.587535</td>\n",
       "      <td>2.024308</td>\n",
       "      <td>0.603498</td>\n",
       "      <td>1.562374</td>\n",
       "      <td>1.135454</td>\n",
       "      <td>0.180910</td>\n",
       "    </tr>\n",
       "    <tr>\n",
       "      <th>3</th>\n",
       "      <td>1.0</td>\n",
       "      <td>0.381256</td>\n",
       "      <td>-0.976145</td>\n",
       "      <td>0.693152</td>\n",
       "      <td>0.448959</td>\n",
       "      <td>0.891753</td>\n",
       "      <td>-0.677328</td>\n",
       "      <td>2.033060</td>\n",
       "      <td>1.533041</td>\n",
       "      <td>3.046260</td>\n",
       "      <td>-1.005285</td>\n",
       "      <td>0.569386</td>\n",
       "      <td>1.015211</td>\n",
       "      <td>1.582217</td>\n",
       "      <td>1.551914</td>\n",
       "      <td>0.761215</td>\n",
       "      <td>1.715464</td>\n",
       "      <td>1.492257</td>\n",
       "      <td>0.090719</td>\n",
       "    </tr>\n",
       "    <tr>\n",
       "      <th>4</th>\n",
       "      <td>1.0</td>\n",
       "      <td>1.309996</td>\n",
       "      <td>-0.690089</td>\n",
       "      <td>-0.676259</td>\n",
       "      <td>1.589283</td>\n",
       "      <td>-0.693326</td>\n",
       "      <td>0.622907</td>\n",
       "      <td>1.087562</td>\n",
       "      <td>-0.381742</td>\n",
       "      <td>0.589204</td>\n",
       "      <td>1.365479</td>\n",
       "      <td>1.179295</td>\n",
       "      <td>0.968218</td>\n",
       "      <td>0.728563</td>\n",
       "      <td>0.000000</td>\n",
       "      <td>1.083158</td>\n",
       "      <td>0.043429</td>\n",
       "      <td>1.154854</td>\n",
       "      <td>0.094859</td>\n",
       "    </tr>\n",
       "    <tr>\n",
       "      <th>...</th>\n",
       "      <td>...</td>\n",
       "      <td>...</td>\n",
       "      <td>...</td>\n",
       "      <td>...</td>\n",
       "      <td>...</td>\n",
       "      <td>...</td>\n",
       "      <td>...</td>\n",
       "      <td>...</td>\n",
       "      <td>...</td>\n",
       "      <td>...</td>\n",
       "      <td>...</td>\n",
       "      <td>...</td>\n",
       "      <td>...</td>\n",
       "      <td>...</td>\n",
       "      <td>...</td>\n",
       "      <td>...</td>\n",
       "      <td>...</td>\n",
       "      <td>...</td>\n",
       "      <td>...</td>\n",
       "    </tr>\n",
       "    <tr>\n",
       "      <th>4999995</th>\n",
       "      <td>1.0</td>\n",
       "      <td>0.853325</td>\n",
       "      <td>-0.961783</td>\n",
       "      <td>-1.487277</td>\n",
       "      <td>0.678190</td>\n",
       "      <td>0.493580</td>\n",
       "      <td>1.647969</td>\n",
       "      <td>1.843867</td>\n",
       "      <td>0.276954</td>\n",
       "      <td>1.025105</td>\n",
       "      <td>-1.486535</td>\n",
       "      <td>0.892879</td>\n",
       "      <td>1.684429</td>\n",
       "      <td>1.674084</td>\n",
       "      <td>3.366298</td>\n",
       "      <td>1.046707</td>\n",
       "      <td>2.646649</td>\n",
       "      <td>1.389226</td>\n",
       "      <td>0.364599</td>\n",
       "    </tr>\n",
       "    <tr>\n",
       "      <th>4999996</th>\n",
       "      <td>0.0</td>\n",
       "      <td>0.951581</td>\n",
       "      <td>0.139370</td>\n",
       "      <td>1.436884</td>\n",
       "      <td>0.880440</td>\n",
       "      <td>-0.351948</td>\n",
       "      <td>-0.740852</td>\n",
       "      <td>0.290863</td>\n",
       "      <td>-0.732360</td>\n",
       "      <td>0.001360</td>\n",
       "      <td>0.257738</td>\n",
       "      <td>0.802871</td>\n",
       "      <td>0.545319</td>\n",
       "      <td>0.602730</td>\n",
       "      <td>0.002998</td>\n",
       "      <td>0.748959</td>\n",
       "      <td>0.401166</td>\n",
       "      <td>0.443471</td>\n",
       "      <td>0.239953</td>\n",
       "    </tr>\n",
       "    <tr>\n",
       "      <th>4999997</th>\n",
       "      <td>0.0</td>\n",
       "      <td>0.840389</td>\n",
       "      <td>1.419162</td>\n",
       "      <td>-1.218766</td>\n",
       "      <td>1.195631</td>\n",
       "      <td>1.695645</td>\n",
       "      <td>0.663756</td>\n",
       "      <td>0.490888</td>\n",
       "      <td>-0.509186</td>\n",
       "      <td>0.704289</td>\n",
       "      <td>0.045744</td>\n",
       "      <td>0.825015</td>\n",
       "      <td>0.723530</td>\n",
       "      <td>0.778236</td>\n",
       "      <td>0.752942</td>\n",
       "      <td>0.838953</td>\n",
       "      <td>0.614048</td>\n",
       "      <td>1.210595</td>\n",
       "      <td>0.026692</td>\n",
       "    </tr>\n",
       "    <tr>\n",
       "      <th>4999998</th>\n",
       "      <td>1.0</td>\n",
       "      <td>1.784218</td>\n",
       "      <td>-0.833565</td>\n",
       "      <td>-0.560091</td>\n",
       "      <td>0.953342</td>\n",
       "      <td>-0.688969</td>\n",
       "      <td>-1.428233</td>\n",
       "      <td>2.660703</td>\n",
       "      <td>-0.861344</td>\n",
       "      <td>2.116892</td>\n",
       "      <td>2.906151</td>\n",
       "      <td>1.232334</td>\n",
       "      <td>0.952444</td>\n",
       "      <td>0.685846</td>\n",
       "      <td>0.000000</td>\n",
       "      <td>0.781874</td>\n",
       "      <td>0.676003</td>\n",
       "      <td>1.197807</td>\n",
       "      <td>0.093689</td>\n",
       "    </tr>\n",
       "    <tr>\n",
       "      <th>4999999</th>\n",
       "      <td>0.0</td>\n",
       "      <td>0.761500</td>\n",
       "      <td>0.680454</td>\n",
       "      <td>-1.186213</td>\n",
       "      <td>1.043521</td>\n",
       "      <td>-0.316755</td>\n",
       "      <td>0.246879</td>\n",
       "      <td>1.120280</td>\n",
       "      <td>0.998479</td>\n",
       "      <td>1.640881</td>\n",
       "      <td>-0.797688</td>\n",
       "      <td>0.854212</td>\n",
       "      <td>1.121858</td>\n",
       "      <td>1.165438</td>\n",
       "      <td>1.498351</td>\n",
       "      <td>0.931580</td>\n",
       "      <td>1.293524</td>\n",
       "      <td>1.539167</td>\n",
       "      <td>0.187496</td>\n",
       "    </tr>\n",
       "  </tbody>\n",
       "</table>\n",
       "<p>5000000 rows × 19 columns</p>\n",
       "</div>"
      ],
      "text/plain": [
       "         signal    l_1_pT   l_1_eta   l_1_phi    l_2_pT   l_2_eta   l_2_phi  \\\n",
       "0           0.0  0.972861  0.653855  1.176225  1.157156 -1.739873 -0.874309   \n",
       "1           1.0  1.667973  0.064191 -1.225171  0.506102 -0.338939  1.672543   \n",
       "2           1.0  0.444840 -0.134298 -0.709972  0.451719 -1.613871 -0.768661   \n",
       "3           1.0  0.381256 -0.976145  0.693152  0.448959  0.891753 -0.677328   \n",
       "4           1.0  1.309996 -0.690089 -0.676259  1.589283 -0.693326  0.622907   \n",
       "...         ...       ...       ...       ...       ...       ...       ...   \n",
       "4999995     1.0  0.853325 -0.961783 -1.487277  0.678190  0.493580  1.647969   \n",
       "4999996     0.0  0.951581  0.139370  1.436884  0.880440 -0.351948 -0.740852   \n",
       "4999997     0.0  0.840389  1.419162 -1.218766  1.195631  1.695645  0.663756   \n",
       "4999998     1.0  1.784218 -0.833565 -0.560091  0.953342 -0.688969 -1.428233   \n",
       "4999999     0.0  0.761500  0.680454 -1.186213  1.043521 -0.316755  0.246879   \n",
       "\n",
       "              MET   MET_phi   MET_rel  axial_MET       M_R    M_TR_2  \\\n",
       "0        0.567765 -0.175000  0.810061  -0.252552  1.921887  0.889637   \n",
       "1        3.475464 -1.219136  0.012955   3.775174  1.045977  0.568051   \n",
       "2        1.219918  0.504026  1.831248  -0.431385  0.526283  0.941514   \n",
       "3        2.033060  1.533041  3.046260  -1.005285  0.569386  1.015211   \n",
       "4        1.087562 -0.381742  0.589204   1.365479  1.179295  0.968218   \n",
       "...           ...       ...       ...        ...       ...       ...   \n",
       "4999995  1.843867  0.276954  1.025105  -1.486535  0.892879  1.684429   \n",
       "4999996  0.290863 -0.732360  0.001360   0.257738  0.802871  0.545319   \n",
       "4999997  0.490888 -0.509186  0.704289   0.045744  0.825015  0.723530   \n",
       "4999998  2.660703 -0.861344  2.116892   2.906151  1.232334  0.952444   \n",
       "4999999  1.120280  0.998479  1.640881  -0.797688  0.854212  1.121858   \n",
       "\n",
       "                R       MT2       S_R  M_Delta_R  dPhi_r_b  cos_theta_r1  \n",
       "0        0.410772  1.145621  1.932632   0.994464  1.367815      0.040714  \n",
       "1        0.481928  0.000000  0.448410   0.205356  1.321893      0.377584  \n",
       "2        1.587535  2.024308  0.603498   1.562374  1.135454      0.180910  \n",
       "3        1.582217  1.551914  0.761215   1.715464  1.492257      0.090719  \n",
       "4        0.728563  0.000000  1.083158   0.043429  1.154854      0.094859  \n",
       "...           ...       ...       ...        ...       ...           ...  \n",
       "4999995  1.674084  3.366298  1.046707   2.646649  1.389226      0.364599  \n",
       "4999996  0.602730  0.002998  0.748959   0.401166  0.443471      0.239953  \n",
       "4999997  0.778236  0.752942  0.838953   0.614048  1.210595      0.026692  \n",
       "4999998  0.685846  0.000000  0.781874   0.676003  1.197807      0.093689  \n",
       "4999999  1.165438  1.498351  0.931580   1.293524  1.539167      0.187496  \n",
       "\n",
       "[5000000 rows x 19 columns]"
      ]
     },
     "execution_count": 10,
     "metadata": {},
     "output_type": "execute_result"
    }
   ],
   "source": [
    "df"
   ]
  },
  {
   "cell_type": "markdown",
   "metadata": {},
   "source": [
    "The first column stores the \"truth\" label of whether an event was signal or not. Pandas makes it easy to create dataframes that store only the signal or background events:"
   ]
  },
  {
   "cell_type": "code",
   "execution_count": 8,
   "metadata": {},
   "outputs": [],
   "source": [
    "df_sig=df[df.signal==1]\n",
    "df_bkg=df[df.signal==0]"
   ]
  },
  {
   "cell_type": "markdown",
   "metadata": {},
   "source": [
    "The following example plots the signal and background distributions of every variable. Note that we use VarNames[1:] to skip the first variable, which was the true label."
   ]
  },
  {
   "cell_type": "code",
   "execution_count": 9,
   "metadata": {
    "scrolled": true
   },
   "outputs": [
    {
     "name": "stdout",
     "output_type": "stream",
     "text": [
      "l_1_pT\n"
     ]
    },
    {
     "data": {
      "image/png": "[encoded data removed]",
      "text/plain": [
       "<Figure size 720x360 with 1 Axes>"
      ]
     },
     "metadata": {
      "needs_background": "light"
     },
     "output_type": "display_data"
    },
    {
     "name": "stdout",
     "output_type": "stream",
     "text": [
      "l_1_eta\n"
     ]
    },
    {
     "data": {
      "image/png": "[encoded data removed]",
      "text/plain": [
       "<Figure size 720x360 with 1 Axes>"
      ]
     },
     "metadata": {
      "needs_background": "light"
     },
     "output_type": "display_data"
    },
    {
     "name": "stdout",
     "output_type": "stream",
     "text": [
      "l_1_phi\n"
     ]
    },
    {
     "data": {
      "image/png": "[encoded data removed]",
      "text/plain": [
       "<Figure size 720x360 with 1 Axes>"
      ]
     },
     "metadata": {
      "needs_background": "light"
     },
     "output_type": "display_data"
    },
    {
     "name": "stdout",
     "output_type": "stream",
     "text": [
      "l_2_pT\n"
     ]
    },
    {
     "data": {
      "image/png": "[encoded data removed]",
      "text/plain": [
       "<Figure size 720x360 with 1 Axes>"
      ]
     },
     "metadata": {
      "needs_background": "light"
     },
     "output_type": "display_data"
    },
    {
     "name": "stdout",
     "output_type": "stream",
     "text": [
      "l_2_eta\n"
     ]
    },
    {
     "data": {
      "image/png": "[encoded data removed]",
      "text/plain": [
       "<Figure size 720x360 with 1 Axes>"
      ]
     },
     "metadata": {
      "needs_background": "light"
     },
     "output_type": "display_data"
    },
    {
     "name": "stdout",
     "output_type": "stream",
     "text": [
      "l_2_phi\n"
     ]
    },
    {
     "data": {
      "image/png": "[encoded data removed]",
      "text/plain": [
       "<Figure size 720x360 with 1 Axes>"
      ]
     },
     "metadata": {
      "needs_background": "light"
     },
     "output_type": "display_data"
    },
    {
     "name": "stdout",
     "output_type": "stream",
     "text": [
      "MET\n"
     ]
    },
    {
     "data": {
      "image/png": "[encoded data removed]",
      "text/plain": [
       "<Figure size 720x360 with 1 Axes>"
      ]
     },
     "metadata": {
      "needs_background": "light"
     },
     "output_type": "display_data"
    },
    {
     "name": "stdout",
     "output_type": "stream",
     "text": [
      "MET_phi\n"
     ]
    },
    {
     "data": {
      "image/png": "[encoded data removed]",
      "text/plain": [
       "<Figure size 720x360 with 1 Axes>"
      ]
     },
     "metadata": {
      "needs_background": "light"
     },
     "output_type": "display_data"
    },
    {
     "name": "stdout",
     "output_type": "stream",
     "text": [
      "MET_rel\n"
     ]
    },
    {
     "data": {
      "image/png": "[encoded data removed]",
      "text/plain": [
       "<Figure size 720x360 with 1 Axes>"
      ]
     },
     "metadata": {
      "needs_background": "light"
     },
     "output_type": "display_data"
    },
    {
     "name": "stdout",
     "output_type": "stream",
     "text": [
      "axial_MET\n"
     ]
    },
    {
     "data": {
      "image/png": "[encoded data removed]",
      "text/plain": [
       "<Figure size 720x360 with 1 Axes>"
      ]
     },
     "metadata": {
      "needs_background": "light"
     },
     "output_type": "display_data"
    },
    {
     "name": "stdout",
     "output_type": "stream",
     "text": [
      "M_R\n"
     ]
    },
    {
     "data": {
      "image/png": "[encoded data removed]",
      "text/plain": [
       "<Figure size 720x360 with 1 Axes>"
      ]
     },
     "metadata": {
      "needs_background": "light"
     },
     "output_type": "display_data"
    },
    {
     "name": "stdout",
     "output_type": "stream",
     "text": [
      "M_TR_2\n"
     ]
    },
    {
     "data": {
      "image/png": "[encoded data removed]",
      "text/plain": [
       "<Figure size 720x360 with 1 Axes>"
      ]
     },
     "metadata": {
      "needs_background": "light"
     },
     "output_type": "display_data"
    },
    {
     "name": "stdout",
     "output_type": "stream",
     "text": [
      "R\n"
     ]
    },
    {
     "data": {
      "image/png": "[encoded data removed]",
      "text/plain": [
       "<Figure size 720x360 with 1 Axes>"
      ]
     },
     "metadata": {
      "needs_background": "light"
     },
     "output_type": "display_data"
    },
    {
     "name": "stdout",
     "output_type": "stream",
     "text": [
      "MT2\n"
     ]
    },
    {
     "data": {
      "image/png": "[encoded data removed]",
      "text/plain": [
       "<Figure size 720x360 with 1 Axes>"
      ]
     },
     "metadata": {
      "needs_background": "light"
     },
     "output_type": "display_data"
    },
    {
     "name": "stdout",
     "output_type": "stream",
     "text": [
      "S_R\n"
     ]
    },
    {
     "data": {
      "image/png": "[encoded data removed]",
      "text/plain": [
       "<Figure size 720x360 with 1 Axes>"
      ]
     },
     "metadata": {
      "needs_background": "light"
     },
     "output_type": "display_data"
    },
    {
     "name": "stdout",
     "output_type": "stream",
     "text": [
      "M_Delta_R\n"
     ]
    },
    {
     "data": {
      "image/png": "[encoded data removed]",
      "text/plain": [
       "<Figure size 720x360 with 1 Axes>"
      ]
     },
     "metadata": {
      "needs_background": "light"
     },
     "output_type": "display_data"
    },
    {
     "name": "stdout",
     "output_type": "stream",
     "text": [
      "dPhi_r_b\n"
     ]
    },
    {
     "data": {
      "image/png": "[encoded data removed]",
      "text/plain": [
       "<Figure size 720x360 with 1 Axes>"
      ]
     },
     "metadata": {
      "needs_background": "light"
     },
     "output_type": "display_data"
    },
    {
     "name": "stdout",
     "output_type": "stream",
     "text": [
      "cos_theta_r1\n"
     ]
    },
    {
     "data": {
      "image/png": "[encoded data removed]",
      "text/plain": [
       "<Figure size 720x360 with 1 Axes>"
      ]
     },
     "metadata": {
      "needs_background": "light"
     },
     "output_type": "display_data"
    }
   ],
   "source": [
    "import numpy as np\n",
    "for var in VarNames[1:]:\n",
    "    print(var)\n",
    "    plt.figure(figsize=(10,5))\n",
    "    plt.hist(np.array(df_sig[var]),bins=100,histtype=\"step\", color=\"red\",label=\"signal\",\n",
    "             #normed=True,\n",
    "             density=True,\n",
    "             stacked=True)\n",
    "    plt.hist(np.array(df_bkg[var]),bins=100,histtype=\"step\", color=\"blue\", label=\"sackground\",\n",
    "             #normed=True,\n",
    "             density=True,\n",
    "             stacked=True)\n",
    "    plt.legend(loc='upper right')\n",
    "    plt.show()"
   ]
  },
  {
   "cell_type": "markdown",
   "metadata": {},
   "source": [
    "### Make nice figures\n",
    "\n",
    "Now use `matplotlib` to reproduce as closely as you can figures 5 and 6 from the paper. This exercise is intended to get you to familiarize yourself with making nicely formatted `matplotlib` figures with multiple plots."
   ]
  },
  {
   "cell_type": "code",
   "execution_count": 11,
   "metadata": {},
   "outputs": [],
   "source": [
    "import math"
   ]
  },
  {
   "cell_type": "code",
   "execution_count": 12,
   "metadata": {},
   "outputs": [],
   "source": [
    "def condensespace(x, y):\n",
    "    group = list()\n",
    "    for a in range(y):\n",
    "        for b in range(x):\n",
    "            group.append([b, a])\n",
    "    return group"
   ]
  },
  {
   "cell_type": "code",
   "execution_count": 53,
   "metadata": {},
   "outputs": [],
   "source": [
    "def betterplots(dataset, size = 5):\n",
    "    a = len(dataset.columns)\n",
    "    fig, axs = plt.subplots(round(math.sqrt(a-1)), round(math.sqrt(a-1)), figsize=(size, size))\n",
    "    for c, t in enumerate(condensespace(round(math.sqrt(a-1)), round(math.sqrt(a-1)))):\n",
    "        if dataset.columns[c] == 'signal':\n",
    "            pass\n",
    "        else:\n",
    "            axs[t[0]-1][t[1]-1].set_title(dataset.columns[c])\n",
    "            axs[t[0]-1][t[1]-1].hist(np.array(dataset[dataset.signal==1][dataset.columns[c]]),bins=100,histtype=\"step\", color=\"red\",label=\"signal\",\n",
    "                density=True,\n",
    "                align = 'mid',\n",
    "                rwidth = 7.5,\n",
    "                stacked=True)\n",
    "            axs[t[0]-1][t[1]-1].set_title(dataset.columns[c])\n",
    "            axs[t[0]-1][t[1]-1].hist(np.array(dataset[dataset.signal==0][dataset.columns[c]]),bins=100,histtype=\"step\", color=\"blue\",label=\"background\",\n",
    "                density=True,\n",
    "                align = 'mid',\n",
    "                rwidth = 7.5,\n",
    "                stacked=True)\n",
    "            axs[t[0]-1][t[1]-1].legend()"
   ]
  },
  {
   "cell_type": "code",
   "execution_count": 54,
   "metadata": {},
   "outputs": [
    {
     "data": {
      "image/png": "[encoded data removed]",
      "text/plain": [
       "<Figure size 1080x1080 with 16 Axes>"
      ]
     },
     "metadata": {
      "needs_background": "light"
     },
     "output_type": "display_data"
    }
   ],
   "source": [
    "betterplots(df, 15)"
   ]
  },
  {
   "cell_type": "markdown",
   "metadata": {
    "collapsed": true
   },
   "source": [
    "## Exercise 4: Higgs Dataset\n",
    "\n",
    "Repeat Excercise 3 for [Higgs Dataset](https://archive.ics.uci.edu/ml/datasets/HIGGS) and reproduce figures 3 and 4."
   ]
  },
  {
   "cell_type": "code",
   "execution_count": 41,
   "metadata": {
    "collapsed": true
   },
   "outputs": [
    {
     "name": "stdout",
     "output_type": "stream",
     "text": [
      "1.000000000000000000e+00,8.692932128906250000e-01,-6.350818276405334473e-01,2.256902605295181274e-01,3.274700641632080078e-01,-6.899932026863098145e-01,7.542022466659545898e-01,-2.485731393098831177e-01,-1.092063903808593750e+00,0.000000000000000000e+00,1.374992132186889648e+00,-6.536741852760314941e-01,9.303491115570068359e-01,1.107436060905456543e+00,1.138904333114624023e+00,-1.578198313713073730e+00,-1.046985387802124023e+00,0.000000000000000000e+00,6.579295396804809570e-01,-1.045456994324922562e-02,-4.576716944575309753e-02,3.101961374282836914e+00,1.353760004043579102e+00,9.795631170272827148e-01,9.780761599540710449e-01,9.200048446655273438e-01,7.216574549674987793e-01,9.887509346008300781e-01,8.766783475875854492e-01\r\n",
      "1.000000000000000000e+00,9.075421094894409180e-01,3.291472792625427246e-01,3.594118654727935791e-01,1.497969865798950195e+00,-3.130095303058624268e-01,1.095530629158020020e+00,-5.575249195098876953e-01,-1.588229775428771973e+00,2.173076152801513672e+00,8.125811815261840820e-01,-2.136419266462326050e-01,1.271014571189880371e+00,2.214872121810913086e+00,4.999939501285552979e-01,-1.261431813240051270e+00,7.321561574935913086e-01,0.000000000000000000e+00,3.987008929252624512e-01,-1.138930082321166992e+00,-8.191101951524615288e-04,0.000000000000000000e+00,3.022198975086212158e-01,8.330481648445129395e-01,9.856996536254882812e-01,9.780983924865722656e-01,7.797321677207946777e-01,9.923557639122009277e-01,7.983425855636596680e-01\r\n",
      "1.000000000000000000e+00,7.988347411155700684e-01,1.470638751983642578e+00,-1.635974764823913574e+00,4.537731707096099854e-01,4.256291687488555908e-01,1.104874610900878906e+00,1.282322287559509277e+00,1.381664276123046875e+00,0.000000000000000000e+00,8.517372012138366699e-01,1.540658950805664062e+00,-8.196895122528076172e-01,2.214872121810913086e+00,9.934899210929870605e-01,3.560801148414611816e-01,-2.087775468826293945e-01,2.548224449157714844e+00,1.256954550743103027e+00,1.128847599029541016e+00,9.004608392715454102e-01,0.000000000000000000e+00,9.097532629966735840e-01,1.108330488204956055e+00,9.856922030448913574e-01,9.513312578201293945e-01,8.032515048980712891e-01,8.659244179725646973e-01,7.801175713539123535e-01\r\n",
      "0.000000000000000000e+00,1.344384789466857910e+00,-8.766260147094726562e-01,9.359127283096313477e-01,1.992050051689147949e+00,8.824543952941894531e-01,1.786065936088562012e+00,-1.646777749061584473e+00,-9.423825144767761230e-01,0.000000000000000000e+00,2.423264741897583008e+00,-6.760157942771911621e-01,7.361586689949035645e-01,2.214872121810913086e+00,1.298719763755798340e+00,-1.430738091468811035e+00,-3.646581768989562988e-01,0.000000000000000000e+00,7.453126907348632812e-01,-6.783788204193115234e-01,-1.360356330871582031e+00,0.000000000000000000e+00,9.466524720191955566e-01,1.028703689575195312e+00,9.986560940742492676e-01,7.282806038856506348e-01,8.692002296447753906e-01,1.026736497879028320e+00,9.579039812088012695e-01\r\n",
      "1.000000000000000000e+00,1.105008959770202637e+00,3.213555514812469482e-01,1.522401213645935059e+00,8.828076124191284180e-01,-1.205349326133728027e+00,6.814661026000976562e-01,-1.070463895797729492e+00,-9.218706488609313965e-01,0.000000000000000000e+00,8.008721470832824707e-01,1.020974040031433105e+00,9.714065194129943848e-01,2.214872121810913086e+00,5.967612862586975098e-01,-3.502728641033172607e-01,6.311942934989929199e-01,0.000000000000000000e+00,4.799988865852355957e-01,-3.735655248165130615e-01,1.130406111478805542e-01,0.000000000000000000e+00,7.558564543724060059e-01,1.361057043075561523e+00,9.866096973419189453e-01,8.380846381187438965e-01,1.133295178413391113e+00,8.722448945045471191e-01,8.084865212440490723e-01\r\n"
     ]
    }
   ],
   "source": [
    "higgsfile=\"../../../Data/HIGGS.csv\"\n",
    "# print out the first 5 lines using unix head command\n",
    "!head -5  ../../../Data/HIGGS.csv"
   ]
  },
  {
   "cell_type": "code",
   "execution_count": 42,
   "metadata": {},
   "outputs": [],
   "source": [
    "datvariables = ['signal',  'lepton_pT', 'lepton_eta', 'lepton_phi', 'missing_energy_magnitude', 'missing_energy_phi', 'jet_1_pt', 'jet_1_eta', 'jet_1_phi', 'jet_1_b-tag', 'jet_2_pt', 'jet_2_eta', 'jet 2 phi', 'jet 2 b-tag', 'jet 3 pt', 'jet 3 eta', 'jet 3 phi', 'jet 3 b-tag', 'jet 4 pt', 'jet 4 eta', 'jet 4 phi', 'jet 4 b-tag', 'm_jj', 'm_jjj', 'm_lv', 'm_jlv', 'm_bb', 'm_wbb', 'm_wwbb']"
   ]
  },
  {
   "cell_type": "code",
   "execution_count": 43,
   "metadata": {},
   "outputs": [],
   "source": [
    "datraw = datvariables[1:21]"
   ]
  },
  {
   "cell_type": "code",
   "execution_count": 44,
   "metadata": {},
   "outputs": [],
   "source": [
    "datfeat = datvariables[21:]"
   ]
  },
  {
   "cell_type": "code",
   "execution_count": 46,
   "metadata": {},
   "outputs": [],
   "source": [
    "dfa = pd.read_csv(higgsfile, dtype='float64', names=datvariables)"
   ]
  },
  {
   "cell_type": "code",
   "execution_count": 47,
   "metadata": {},
   "outputs": [
    {
     "data": {
      "text/html": [
       "<div>\n",
       "<style scoped>\n",
       "    .dataframe tbody tr th:only-of-type {\n",
       "        vertical-align: middle;\n",
       "    }\n",
       "\n",
       "    .dataframe tbody tr th {\n",
       "        vertical-align: top;\n",
       "    }\n",
       "\n",
       "    .dataframe thead th {\n",
       "        text-align: right;\n",
       "    }\n",
       "</style>\n",
       "<table border=\"1\" class=\"dataframe\">\n",
       "  <thead>\n",
       "    <tr style=\"text-align: right;\">\n",
       "      <th></th>\n",
       "      <th>signal</th>\n",
       "      <th>lepton_pT</th>\n",
       "      <th>lepton_eta</th>\n",
       "      <th>lepton_phi</th>\n",
       "      <th>missing_energy_magnitude</th>\n",
       "      <th>missing_energy_phi</th>\n",
       "      <th>jet_1_pt</th>\n",
       "      <th>jet_1_eta</th>\n",
       "      <th>jet_1_phi</th>\n",
       "      <th>jet_1_b-tag</th>\n",
       "      <th>...</th>\n",
       "      <th>jet 4 eta</th>\n",
       "      <th>jet 4 phi</th>\n",
       "      <th>jet 4 b-tag</th>\n",
       "      <th>m_jj</th>\n",
       "      <th>m_jjj</th>\n",
       "      <th>m_lv</th>\n",
       "      <th>m_jlv</th>\n",
       "      <th>m_bb</th>\n",
       "      <th>m_wbb</th>\n",
       "      <th>m_wwbb</th>\n",
       "    </tr>\n",
       "  </thead>\n",
       "  <tbody>\n",
       "    <tr>\n",
       "      <th>0</th>\n",
       "      <td>1.0</td>\n",
       "      <td>0.869293</td>\n",
       "      <td>-0.635082</td>\n",
       "      <td>0.225690</td>\n",
       "      <td>0.327470</td>\n",
       "      <td>-0.689993</td>\n",
       "      <td>0.754202</td>\n",
       "      <td>-0.248573</td>\n",
       "      <td>-1.092064</td>\n",
       "      <td>0.000000</td>\n",
       "      <td>...</td>\n",
       "      <td>-0.010455</td>\n",
       "      <td>-0.045767</td>\n",
       "      <td>3.101961</td>\n",
       "      <td>1.353760</td>\n",
       "      <td>0.979563</td>\n",
       "      <td>0.978076</td>\n",
       "      <td>0.920005</td>\n",
       "      <td>0.721657</td>\n",
       "      <td>0.988751</td>\n",
       "      <td>0.876678</td>\n",
       "    </tr>\n",
       "    <tr>\n",
       "      <th>1</th>\n",
       "      <td>1.0</td>\n",
       "      <td>0.907542</td>\n",
       "      <td>0.329147</td>\n",
       "      <td>0.359412</td>\n",
       "      <td>1.497970</td>\n",
       "      <td>-0.313010</td>\n",
       "      <td>1.095531</td>\n",
       "      <td>-0.557525</td>\n",
       "      <td>-1.588230</td>\n",
       "      <td>2.173076</td>\n",
       "      <td>...</td>\n",
       "      <td>-1.138930</td>\n",
       "      <td>-0.000819</td>\n",
       "      <td>0.000000</td>\n",
       "      <td>0.302220</td>\n",
       "      <td>0.833048</td>\n",
       "      <td>0.985700</td>\n",
       "      <td>0.978098</td>\n",
       "      <td>0.779732</td>\n",
       "      <td>0.992356</td>\n",
       "      <td>0.798343</td>\n",
       "    </tr>\n",
       "    <tr>\n",
       "      <th>2</th>\n",
       "      <td>1.0</td>\n",
       "      <td>0.798835</td>\n",
       "      <td>1.470639</td>\n",
       "      <td>-1.635975</td>\n",
       "      <td>0.453773</td>\n",
       "      <td>0.425629</td>\n",
       "      <td>1.104875</td>\n",
       "      <td>1.282322</td>\n",
       "      <td>1.381664</td>\n",
       "      <td>0.000000</td>\n",
       "      <td>...</td>\n",
       "      <td>1.128848</td>\n",
       "      <td>0.900461</td>\n",
       "      <td>0.000000</td>\n",
       "      <td>0.909753</td>\n",
       "      <td>1.108330</td>\n",
       "      <td>0.985692</td>\n",
       "      <td>0.951331</td>\n",
       "      <td>0.803252</td>\n",
       "      <td>0.865924</td>\n",
       "      <td>0.780118</td>\n",
       "    </tr>\n",
       "    <tr>\n",
       "      <th>3</th>\n",
       "      <td>0.0</td>\n",
       "      <td>1.344385</td>\n",
       "      <td>-0.876626</td>\n",
       "      <td>0.935913</td>\n",
       "      <td>1.992050</td>\n",
       "      <td>0.882454</td>\n",
       "      <td>1.786066</td>\n",
       "      <td>-1.646778</td>\n",
       "      <td>-0.942383</td>\n",
       "      <td>0.000000</td>\n",
       "      <td>...</td>\n",
       "      <td>-0.678379</td>\n",
       "      <td>-1.360356</td>\n",
       "      <td>0.000000</td>\n",
       "      <td>0.946652</td>\n",
       "      <td>1.028704</td>\n",
       "      <td>0.998656</td>\n",
       "      <td>0.728281</td>\n",
       "      <td>0.869200</td>\n",
       "      <td>1.026736</td>\n",
       "      <td>0.957904</td>\n",
       "    </tr>\n",
       "    <tr>\n",
       "      <th>4</th>\n",
       "      <td>1.0</td>\n",
       "      <td>1.105009</td>\n",
       "      <td>0.321356</td>\n",
       "      <td>1.522401</td>\n",
       "      <td>0.882808</td>\n",
       "      <td>-1.205349</td>\n",
       "      <td>0.681466</td>\n",
       "      <td>-1.070464</td>\n",
       "      <td>-0.921871</td>\n",
       "      <td>0.000000</td>\n",
       "      <td>...</td>\n",
       "      <td>-0.373566</td>\n",
       "      <td>0.113041</td>\n",
       "      <td>0.000000</td>\n",
       "      <td>0.755856</td>\n",
       "      <td>1.361057</td>\n",
       "      <td>0.986610</td>\n",
       "      <td>0.838085</td>\n",
       "      <td>1.133295</td>\n",
       "      <td>0.872245</td>\n",
       "      <td>0.808487</td>\n",
       "    </tr>\n",
       "    <tr>\n",
       "      <th>...</th>\n",
       "      <td>...</td>\n",
       "      <td>...</td>\n",
       "      <td>...</td>\n",
       "      <td>...</td>\n",
       "      <td>...</td>\n",
       "      <td>...</td>\n",
       "      <td>...</td>\n",
       "      <td>...</td>\n",
       "      <td>...</td>\n",
       "      <td>...</td>\n",
       "      <td>...</td>\n",
       "      <td>...</td>\n",
       "      <td>...</td>\n",
       "      <td>...</td>\n",
       "      <td>...</td>\n",
       "      <td>...</td>\n",
       "      <td>...</td>\n",
       "      <td>...</td>\n",
       "      <td>...</td>\n",
       "      <td>...</td>\n",
       "      <td>...</td>\n",
       "    </tr>\n",
       "    <tr>\n",
       "      <th>10999995</th>\n",
       "      <td>1.0</td>\n",
       "      <td>1.159912</td>\n",
       "      <td>1.013847</td>\n",
       "      <td>0.108615</td>\n",
       "      <td>1.495524</td>\n",
       "      <td>-0.537545</td>\n",
       "      <td>2.342396</td>\n",
       "      <td>-0.839740</td>\n",
       "      <td>1.320683</td>\n",
       "      <td>0.000000</td>\n",
       "      <td>...</td>\n",
       "      <td>-0.097068</td>\n",
       "      <td>1.190680</td>\n",
       "      <td>3.101961</td>\n",
       "      <td>0.822136</td>\n",
       "      <td>0.766772</td>\n",
       "      <td>1.002191</td>\n",
       "      <td>1.061233</td>\n",
       "      <td>0.837004</td>\n",
       "      <td>0.860472</td>\n",
       "      <td>0.772484</td>\n",
       "    </tr>\n",
       "    <tr>\n",
       "      <th>10999996</th>\n",
       "      <td>1.0</td>\n",
       "      <td>0.618388</td>\n",
       "      <td>-1.012982</td>\n",
       "      <td>1.110139</td>\n",
       "      <td>0.941023</td>\n",
       "      <td>-0.379199</td>\n",
       "      <td>1.004656</td>\n",
       "      <td>0.348535</td>\n",
       "      <td>-1.678593</td>\n",
       "      <td>2.173076</td>\n",
       "      <td>...</td>\n",
       "      <td>-0.216995</td>\n",
       "      <td>1.049177</td>\n",
       "      <td>3.101961</td>\n",
       "      <td>0.826829</td>\n",
       "      <td>0.989809</td>\n",
       "      <td>1.029104</td>\n",
       "      <td>1.199679</td>\n",
       "      <td>0.891481</td>\n",
       "      <td>0.938490</td>\n",
       "      <td>0.865269</td>\n",
       "    </tr>\n",
       "    <tr>\n",
       "      <th>10999997</th>\n",
       "      <td>1.0</td>\n",
       "      <td>0.700559</td>\n",
       "      <td>0.774251</td>\n",
       "      <td>1.520182</td>\n",
       "      <td>0.847112</td>\n",
       "      <td>0.211230</td>\n",
       "      <td>1.095531</td>\n",
       "      <td>0.052457</td>\n",
       "      <td>0.024553</td>\n",
       "      <td>2.173076</td>\n",
       "      <td>...</td>\n",
       "      <td>1.585235</td>\n",
       "      <td>1.713962</td>\n",
       "      <td>0.000000</td>\n",
       "      <td>0.337374</td>\n",
       "      <td>0.845208</td>\n",
       "      <td>0.987610</td>\n",
       "      <td>0.883422</td>\n",
       "      <td>1.888438</td>\n",
       "      <td>1.153766</td>\n",
       "      <td>0.931279</td>\n",
       "    </tr>\n",
       "    <tr>\n",
       "      <th>10999998</th>\n",
       "      <td>0.0</td>\n",
       "      <td>1.178030</td>\n",
       "      <td>0.117796</td>\n",
       "      <td>-1.276980</td>\n",
       "      <td>1.864457</td>\n",
       "      <td>-0.584370</td>\n",
       "      <td>0.998519</td>\n",
       "      <td>-1.264549</td>\n",
       "      <td>1.276333</td>\n",
       "      <td>0.000000</td>\n",
       "      <td>...</td>\n",
       "      <td>1.399515</td>\n",
       "      <td>-1.313189</td>\n",
       "      <td>0.000000</td>\n",
       "      <td>0.838842</td>\n",
       "      <td>0.882890</td>\n",
       "      <td>1.201380</td>\n",
       "      <td>0.939216</td>\n",
       "      <td>0.339705</td>\n",
       "      <td>0.759070</td>\n",
       "      <td>0.719119</td>\n",
       "    </tr>\n",
       "    <tr>\n",
       "      <th>10999999</th>\n",
       "      <td>0.0</td>\n",
       "      <td>0.464477</td>\n",
       "      <td>-0.337047</td>\n",
       "      <td>0.229019</td>\n",
       "      <td>0.954596</td>\n",
       "      <td>-0.868466</td>\n",
       "      <td>0.430004</td>\n",
       "      <td>-0.271348</td>\n",
       "      <td>-1.252278</td>\n",
       "      <td>2.173076</td>\n",
       "      <td>...</td>\n",
       "      <td>-1.652782</td>\n",
       "      <td>-0.586254</td>\n",
       "      <td>0.000000</td>\n",
       "      <td>0.752535</td>\n",
       "      <td>0.740727</td>\n",
       "      <td>0.986917</td>\n",
       "      <td>0.663952</td>\n",
       "      <td>0.576084</td>\n",
       "      <td>0.541427</td>\n",
       "      <td>0.517420</td>\n",
       "    </tr>\n",
       "  </tbody>\n",
       "</table>\n",
       "<p>11000000 rows × 29 columns</p>\n",
       "</div>"
      ],
      "text/plain": [
       "          signal  lepton_pT  lepton_eta  lepton_phi  missing_energy_magnitude  \\\n",
       "0            1.0   0.869293   -0.635082    0.225690                  0.327470   \n",
       "1            1.0   0.907542    0.329147    0.359412                  1.497970   \n",
       "2            1.0   0.798835    1.470639   -1.635975                  0.453773   \n",
       "3            0.0   1.344385   -0.876626    0.935913                  1.992050   \n",
       "4            1.0   1.105009    0.321356    1.522401                  0.882808   \n",
       "...          ...        ...         ...         ...                       ...   \n",
       "10999995     1.0   1.159912    1.013847    0.108615                  1.495524   \n",
       "10999996     1.0   0.618388   -1.012982    1.110139                  0.941023   \n",
       "10999997     1.0   0.700559    0.774251    1.520182                  0.847112   \n",
       "10999998     0.0   1.178030    0.117796   -1.276980                  1.864457   \n",
       "10999999     0.0   0.464477   -0.337047    0.229019                  0.954596   \n",
       "\n",
       "          missing_energy_phi  jet_1_pt  jet_1_eta  jet_1_phi  jet_1_b-tag  \\\n",
       "0                  -0.689993  0.754202  -0.248573  -1.092064     0.000000   \n",
       "1                  -0.313010  1.095531  -0.557525  -1.588230     2.173076   \n",
       "2                   0.425629  1.104875   1.282322   1.381664     0.000000   \n",
       "3                   0.882454  1.786066  -1.646778  -0.942383     0.000000   \n",
       "4                  -1.205349  0.681466  -1.070464  -0.921871     0.000000   \n",
       "...                      ...       ...        ...        ...          ...   \n",
       "10999995           -0.537545  2.342396  -0.839740   1.320683     0.000000   \n",
       "10999996           -0.379199  1.004656   0.348535  -1.678593     2.173076   \n",
       "10999997            0.211230  1.095531   0.052457   0.024553     2.173076   \n",
       "10999998           -0.584370  0.998519  -1.264549   1.276333     0.000000   \n",
       "10999999           -0.868466  0.430004  -0.271348  -1.252278     2.173076   \n",
       "\n",
       "          ...  jet 4 eta  jet 4 phi  jet 4 b-tag      m_jj     m_jjj  \\\n",
       "0         ...  -0.010455  -0.045767     3.101961  1.353760  0.979563   \n",
       "1         ...  -1.138930  -0.000819     0.000000  0.302220  0.833048   \n",
       "2         ...   1.128848   0.900461     0.000000  0.909753  1.108330   \n",
       "3         ...  -0.678379  -1.360356     0.000000  0.946652  1.028704   \n",
       "4         ...  -0.373566   0.113041     0.000000  0.755856  1.361057   \n",
       "...       ...        ...        ...          ...       ...       ...   \n",
       "10999995  ...  -0.097068   1.190680     3.101961  0.822136  0.766772   \n",
       "10999996  ...  -0.216995   1.049177     3.101961  0.826829  0.989809   \n",
       "10999997  ...   1.585235   1.713962     0.000000  0.337374  0.845208   \n",
       "10999998  ...   1.399515  -1.313189     0.000000  0.838842  0.882890   \n",
       "10999999  ...  -1.652782  -0.586254     0.000000  0.752535  0.740727   \n",
       "\n",
       "              m_lv     m_jlv      m_bb     m_wbb    m_wwbb  \n",
       "0         0.978076  0.920005  0.721657  0.988751  0.876678  \n",
       "1         0.985700  0.978098  0.779732  0.992356  0.798343  \n",
       "2         0.985692  0.951331  0.803252  0.865924  0.780118  \n",
       "3         0.998656  0.728281  0.869200  1.026736  0.957904  \n",
       "4         0.986610  0.838085  1.133295  0.872245  0.808487  \n",
       "...            ...       ...       ...       ...       ...  \n",
       "10999995  1.002191  1.061233  0.837004  0.860472  0.772484  \n",
       "10999996  1.029104  1.199679  0.891481  0.938490  0.865269  \n",
       "10999997  0.987610  0.883422  1.888438  1.153766  0.931279  \n",
       "10999998  1.201380  0.939216  0.339705  0.759070  0.719119  \n",
       "10999999  0.986917  0.663952  0.576084  0.541427  0.517420  \n",
       "\n",
       "[11000000 rows x 29 columns]"
      ]
     },
     "execution_count": 47,
     "metadata": {},
     "output_type": "execute_result"
    }
   ],
   "source": [
    "dfa"
   ]
  },
  {
   "cell_type": "code",
   "execution_count": 48,
   "metadata": {},
   "outputs": [],
   "source": [
    "dfa_sig=dfa[dfa.signal==1]\n",
    "dfa_bkg=dfa[dfa.signal==0]"
   ]
  },
  {
   "cell_type": "code",
   "execution_count": 49,
   "metadata": {},
   "outputs": [
    {
     "data": {
      "text/html": [
       "<div>\n",
       "<style scoped>\n",
       "    .dataframe tbody tr th:only-of-type {\n",
       "        vertical-align: middle;\n",
       "    }\n",
       "\n",
       "    .dataframe tbody tr th {\n",
       "        vertical-align: top;\n",
       "    }\n",
       "\n",
       "    .dataframe thead th {\n",
       "        text-align: right;\n",
       "    }\n",
       "</style>\n",
       "<table border=\"1\" class=\"dataframe\">\n",
       "  <thead>\n",
       "    <tr style=\"text-align: right;\">\n",
       "      <th></th>\n",
       "      <th>signal</th>\n",
       "      <th>lepton_pT</th>\n",
       "      <th>lepton_eta</th>\n",
       "      <th>lepton_phi</th>\n",
       "      <th>missing_energy_magnitude</th>\n",
       "      <th>missing_energy_phi</th>\n",
       "      <th>jet_1_pt</th>\n",
       "      <th>jet_1_eta</th>\n",
       "      <th>jet_1_phi</th>\n",
       "      <th>jet_1_b-tag</th>\n",
       "      <th>...</th>\n",
       "      <th>jet 4 eta</th>\n",
       "      <th>jet 4 phi</th>\n",
       "      <th>jet 4 b-tag</th>\n",
       "      <th>m_jj</th>\n",
       "      <th>m_jjj</th>\n",
       "      <th>m_lv</th>\n",
       "      <th>m_jlv</th>\n",
       "      <th>m_bb</th>\n",
       "      <th>m_wbb</th>\n",
       "      <th>m_wwbb</th>\n",
       "    </tr>\n",
       "  </thead>\n",
       "  <tbody>\n",
       "    <tr>\n",
       "      <th>0</th>\n",
       "      <td>1.0</td>\n",
       "      <td>0.869293</td>\n",
       "      <td>-0.635082</td>\n",
       "      <td>0.225690</td>\n",
       "      <td>0.327470</td>\n",
       "      <td>-0.689993</td>\n",
       "      <td>0.754202</td>\n",
       "      <td>-0.248573</td>\n",
       "      <td>-1.092064</td>\n",
       "      <td>0.000000</td>\n",
       "      <td>...</td>\n",
       "      <td>-0.010455</td>\n",
       "      <td>-0.045767</td>\n",
       "      <td>3.101961</td>\n",
       "      <td>1.353760</td>\n",
       "      <td>0.979563</td>\n",
       "      <td>0.978076</td>\n",
       "      <td>0.920005</td>\n",
       "      <td>0.721657</td>\n",
       "      <td>0.988751</td>\n",
       "      <td>0.876678</td>\n",
       "    </tr>\n",
       "    <tr>\n",
       "      <th>1</th>\n",
       "      <td>1.0</td>\n",
       "      <td>0.907542</td>\n",
       "      <td>0.329147</td>\n",
       "      <td>0.359412</td>\n",
       "      <td>1.497970</td>\n",
       "      <td>-0.313010</td>\n",
       "      <td>1.095531</td>\n",
       "      <td>-0.557525</td>\n",
       "      <td>-1.588230</td>\n",
       "      <td>2.173076</td>\n",
       "      <td>...</td>\n",
       "      <td>-1.138930</td>\n",
       "      <td>-0.000819</td>\n",
       "      <td>0.000000</td>\n",
       "      <td>0.302220</td>\n",
       "      <td>0.833048</td>\n",
       "      <td>0.985700</td>\n",
       "      <td>0.978098</td>\n",
       "      <td>0.779732</td>\n",
       "      <td>0.992356</td>\n",
       "      <td>0.798343</td>\n",
       "    </tr>\n",
       "    <tr>\n",
       "      <th>2</th>\n",
       "      <td>1.0</td>\n",
       "      <td>0.798835</td>\n",
       "      <td>1.470639</td>\n",
       "      <td>-1.635975</td>\n",
       "      <td>0.453773</td>\n",
       "      <td>0.425629</td>\n",
       "      <td>1.104875</td>\n",
       "      <td>1.282322</td>\n",
       "      <td>1.381664</td>\n",
       "      <td>0.000000</td>\n",
       "      <td>...</td>\n",
       "      <td>1.128848</td>\n",
       "      <td>0.900461</td>\n",
       "      <td>0.000000</td>\n",
       "      <td>0.909753</td>\n",
       "      <td>1.108330</td>\n",
       "      <td>0.985692</td>\n",
       "      <td>0.951331</td>\n",
       "      <td>0.803252</td>\n",
       "      <td>0.865924</td>\n",
       "      <td>0.780118</td>\n",
       "    </tr>\n",
       "    <tr>\n",
       "      <th>4</th>\n",
       "      <td>1.0</td>\n",
       "      <td>1.105009</td>\n",
       "      <td>0.321356</td>\n",
       "      <td>1.522401</td>\n",
       "      <td>0.882808</td>\n",
       "      <td>-1.205349</td>\n",
       "      <td>0.681466</td>\n",
       "      <td>-1.070464</td>\n",
       "      <td>-0.921871</td>\n",
       "      <td>0.000000</td>\n",
       "      <td>...</td>\n",
       "      <td>-0.373566</td>\n",
       "      <td>0.113041</td>\n",
       "      <td>0.000000</td>\n",
       "      <td>0.755856</td>\n",
       "      <td>1.361057</td>\n",
       "      <td>0.986610</td>\n",
       "      <td>0.838085</td>\n",
       "      <td>1.133295</td>\n",
       "      <td>0.872245</td>\n",
       "      <td>0.808487</td>\n",
       "    </tr>\n",
       "    <tr>\n",
       "      <th>6</th>\n",
       "      <td>1.0</td>\n",
       "      <td>0.409391</td>\n",
       "      <td>-1.884684</td>\n",
       "      <td>-1.027292</td>\n",
       "      <td>1.672452</td>\n",
       "      <td>-1.604598</td>\n",
       "      <td>1.338015</td>\n",
       "      <td>0.055427</td>\n",
       "      <td>0.013466</td>\n",
       "      <td>2.173076</td>\n",
       "      <td>...</td>\n",
       "      <td>0.069496</td>\n",
       "      <td>1.377130</td>\n",
       "      <td>3.101961</td>\n",
       "      <td>0.869418</td>\n",
       "      <td>1.222083</td>\n",
       "      <td>1.000627</td>\n",
       "      <td>0.545045</td>\n",
       "      <td>0.698653</td>\n",
       "      <td>0.977314</td>\n",
       "      <td>0.828786</td>\n",
       "    </tr>\n",
       "    <tr>\n",
       "      <th>...</th>\n",
       "      <td>...</td>\n",
       "      <td>...</td>\n",
       "      <td>...</td>\n",
       "      <td>...</td>\n",
       "      <td>...</td>\n",
       "      <td>...</td>\n",
       "      <td>...</td>\n",
       "      <td>...</td>\n",
       "      <td>...</td>\n",
       "      <td>...</td>\n",
       "      <td>...</td>\n",
       "      <td>...</td>\n",
       "      <td>...</td>\n",
       "      <td>...</td>\n",
       "      <td>...</td>\n",
       "      <td>...</td>\n",
       "      <td>...</td>\n",
       "      <td>...</td>\n",
       "      <td>...</td>\n",
       "      <td>...</td>\n",
       "      <td>...</td>\n",
       "    </tr>\n",
       "    <tr>\n",
       "      <th>10999990</th>\n",
       "      <td>1.0</td>\n",
       "      <td>2.263639</td>\n",
       "      <td>-1.622686</td>\n",
       "      <td>1.012484</td>\n",
       "      <td>0.421123</td>\n",
       "      <td>-0.674919</td>\n",
       "      <td>0.626319</td>\n",
       "      <td>-0.560496</td>\n",
       "      <td>-0.624171</td>\n",
       "      <td>0.000000</td>\n",
       "      <td>...</td>\n",
       "      <td>0.268541</td>\n",
       "      <td>-0.458067</td>\n",
       "      <td>3.101961</td>\n",
       "      <td>0.948827</td>\n",
       "      <td>0.820148</td>\n",
       "      <td>1.350876</td>\n",
       "      <td>0.684106</td>\n",
       "      <td>0.392985</td>\n",
       "      <td>0.753937</td>\n",
       "      <td>0.676647</td>\n",
       "    </tr>\n",
       "    <tr>\n",
       "      <th>10999994</th>\n",
       "      <td>1.0</td>\n",
       "      <td>1.595473</td>\n",
       "      <td>1.246626</td>\n",
       "      <td>-1.321368</td>\n",
       "      <td>0.865705</td>\n",
       "      <td>1.532427</td>\n",
       "      <td>0.456021</td>\n",
       "      <td>1.729906</td>\n",
       "      <td>-0.394657</td>\n",
       "      <td>0.000000</td>\n",
       "      <td>...</td>\n",
       "      <td>-2.134987</td>\n",
       "      <td>0.522566</td>\n",
       "      <td>0.000000</td>\n",
       "      <td>0.901468</td>\n",
       "      <td>0.786123</td>\n",
       "      <td>0.980619</td>\n",
       "      <td>1.144889</td>\n",
       "      <td>0.692346</td>\n",
       "      <td>0.788754</td>\n",
       "      <td>0.725130</td>\n",
       "    </tr>\n",
       "    <tr>\n",
       "      <th>10999995</th>\n",
       "      <td>1.0</td>\n",
       "      <td>1.159912</td>\n",
       "      <td>1.013847</td>\n",
       "      <td>0.108615</td>\n",
       "      <td>1.495524</td>\n",
       "      <td>-0.537545</td>\n",
       "      <td>2.342396</td>\n",
       "      <td>-0.839740</td>\n",
       "      <td>1.320683</td>\n",
       "      <td>0.000000</td>\n",
       "      <td>...</td>\n",
       "      <td>-0.097068</td>\n",
       "      <td>1.190680</td>\n",
       "      <td>3.101961</td>\n",
       "      <td>0.822136</td>\n",
       "      <td>0.766772</td>\n",
       "      <td>1.002191</td>\n",
       "      <td>1.061233</td>\n",
       "      <td>0.837004</td>\n",
       "      <td>0.860472</td>\n",
       "      <td>0.772484</td>\n",
       "    </tr>\n",
       "    <tr>\n",
       "      <th>10999996</th>\n",
       "      <td>1.0</td>\n",
       "      <td>0.618388</td>\n",
       "      <td>-1.012982</td>\n",
       "      <td>1.110139</td>\n",
       "      <td>0.941023</td>\n",
       "      <td>-0.379199</td>\n",
       "      <td>1.004656</td>\n",
       "      <td>0.348535</td>\n",
       "      <td>-1.678593</td>\n",
       "      <td>2.173076</td>\n",
       "      <td>...</td>\n",
       "      <td>-0.216995</td>\n",
       "      <td>1.049177</td>\n",
       "      <td>3.101961</td>\n",
       "      <td>0.826829</td>\n",
       "      <td>0.989809</td>\n",
       "      <td>1.029104</td>\n",
       "      <td>1.199679</td>\n",
       "      <td>0.891481</td>\n",
       "      <td>0.938490</td>\n",
       "      <td>0.865269</td>\n",
       "    </tr>\n",
       "    <tr>\n",
       "      <th>10999997</th>\n",
       "      <td>1.0</td>\n",
       "      <td>0.700559</td>\n",
       "      <td>0.774251</td>\n",
       "      <td>1.520182</td>\n",
       "      <td>0.847112</td>\n",
       "      <td>0.211230</td>\n",
       "      <td>1.095531</td>\n",
       "      <td>0.052457</td>\n",
       "      <td>0.024553</td>\n",
       "      <td>2.173076</td>\n",
       "      <td>...</td>\n",
       "      <td>1.585235</td>\n",
       "      <td>1.713962</td>\n",
       "      <td>0.000000</td>\n",
       "      <td>0.337374</td>\n",
       "      <td>0.845208</td>\n",
       "      <td>0.987610</td>\n",
       "      <td>0.883422</td>\n",
       "      <td>1.888438</td>\n",
       "      <td>1.153766</td>\n",
       "      <td>0.931279</td>\n",
       "    </tr>\n",
       "  </tbody>\n",
       "</table>\n",
       "<p>5829123 rows × 29 columns</p>\n",
       "</div>"
      ],
      "text/plain": [
       "          signal  lepton_pT  lepton_eta  lepton_phi  missing_energy_magnitude  \\\n",
       "0            1.0   0.869293   -0.635082    0.225690                  0.327470   \n",
       "1            1.0   0.907542    0.329147    0.359412                  1.497970   \n",
       "2            1.0   0.798835    1.470639   -1.635975                  0.453773   \n",
       "4            1.0   1.105009    0.321356    1.522401                  0.882808   \n",
       "6            1.0   0.409391   -1.884684   -1.027292                  1.672452   \n",
       "...          ...        ...         ...         ...                       ...   \n",
       "10999990     1.0   2.263639   -1.622686    1.012484                  0.421123   \n",
       "10999994     1.0   1.595473    1.246626   -1.321368                  0.865705   \n",
       "10999995     1.0   1.159912    1.013847    0.108615                  1.495524   \n",
       "10999996     1.0   0.618388   -1.012982    1.110139                  0.941023   \n",
       "10999997     1.0   0.700559    0.774251    1.520182                  0.847112   \n",
       "\n",
       "          missing_energy_phi  jet_1_pt  jet_1_eta  jet_1_phi  jet_1_b-tag  \\\n",
       "0                  -0.689993  0.754202  -0.248573  -1.092064     0.000000   \n",
       "1                  -0.313010  1.095531  -0.557525  -1.588230     2.173076   \n",
       "2                   0.425629  1.104875   1.282322   1.381664     0.000000   \n",
       "4                  -1.205349  0.681466  -1.070464  -0.921871     0.000000   \n",
       "6                  -1.604598  1.338015   0.055427   0.013466     2.173076   \n",
       "...                      ...       ...        ...        ...          ...   \n",
       "10999990           -0.674919  0.626319  -0.560496  -0.624171     0.000000   \n",
       "10999994            1.532427  0.456021   1.729906  -0.394657     0.000000   \n",
       "10999995           -0.537545  2.342396  -0.839740   1.320683     0.000000   \n",
       "10999996           -0.379199  1.004656   0.348535  -1.678593     2.173076   \n",
       "10999997            0.211230  1.095531   0.052457   0.024553     2.173076   \n",
       "\n",
       "          ...  jet 4 eta  jet 4 phi  jet 4 b-tag      m_jj     m_jjj  \\\n",
       "0         ...  -0.010455  -0.045767     3.101961  1.353760  0.979563   \n",
       "1         ...  -1.138930  -0.000819     0.000000  0.302220  0.833048   \n",
       "2         ...   1.128848   0.900461     0.000000  0.909753  1.108330   \n",
       "4         ...  -0.373566   0.113041     0.000000  0.755856  1.361057   \n",
       "6         ...   0.069496   1.377130     3.101961  0.869418  1.222083   \n",
       "...       ...        ...        ...          ...       ...       ...   \n",
       "10999990  ...   0.268541  -0.458067     3.101961  0.948827  0.820148   \n",
       "10999994  ...  -2.134987   0.522566     0.000000  0.901468  0.786123   \n",
       "10999995  ...  -0.097068   1.190680     3.101961  0.822136  0.766772   \n",
       "10999996  ...  -0.216995   1.049177     3.101961  0.826829  0.989809   \n",
       "10999997  ...   1.585235   1.713962     0.000000  0.337374  0.845208   \n",
       "\n",
       "              m_lv     m_jlv      m_bb     m_wbb    m_wwbb  \n",
       "0         0.978076  0.920005  0.721657  0.988751  0.876678  \n",
       "1         0.985700  0.978098  0.779732  0.992356  0.798343  \n",
       "2         0.985692  0.951331  0.803252  0.865924  0.780118  \n",
       "4         0.986610  0.838085  1.133295  0.872245  0.808487  \n",
       "6         1.000627  0.545045  0.698653  0.977314  0.828786  \n",
       "...            ...       ...       ...       ...       ...  \n",
       "10999990  1.350876  0.684106  0.392985  0.753937  0.676647  \n",
       "10999994  0.980619  1.144889  0.692346  0.788754  0.725130  \n",
       "10999995  1.002191  1.061233  0.837004  0.860472  0.772484  \n",
       "10999996  1.029104  1.199679  0.891481  0.938490  0.865269  \n",
       "10999997  0.987610  0.883422  1.888438  1.153766  0.931279  \n",
       "\n",
       "[5829123 rows x 29 columns]"
      ]
     },
     "execution_count": 49,
     "metadata": {},
     "output_type": "execute_result"
    }
   ],
   "source": [
    "dfa_sig"
   ]
  },
  {
   "cell_type": "code",
   "execution_count": 50,
   "metadata": {},
   "outputs": [
    {
     "data": {
      "text/html": [
       "<div>\n",
       "<style scoped>\n",
       "    .dataframe tbody tr th:only-of-type {\n",
       "        vertical-align: middle;\n",
       "    }\n",
       "\n",
       "    .dataframe tbody tr th {\n",
       "        vertical-align: top;\n",
       "    }\n",
       "\n",
       "    .dataframe thead th {\n",
       "        text-align: right;\n",
       "    }\n",
       "</style>\n",
       "<table border=\"1\" class=\"dataframe\">\n",
       "  <thead>\n",
       "    <tr style=\"text-align: right;\">\n",
       "      <th></th>\n",
       "      <th>signal</th>\n",
       "      <th>lepton_pT</th>\n",
       "      <th>lepton_eta</th>\n",
       "      <th>lepton_phi</th>\n",
       "      <th>missing_energy_magnitude</th>\n",
       "      <th>missing_energy_phi</th>\n",
       "      <th>jet_1_pt</th>\n",
       "      <th>jet_1_eta</th>\n",
       "      <th>jet_1_phi</th>\n",
       "      <th>jet_1_b-tag</th>\n",
       "      <th>...</th>\n",
       "      <th>jet 4 eta</th>\n",
       "      <th>jet 4 phi</th>\n",
       "      <th>jet 4 b-tag</th>\n",
       "      <th>m_jj</th>\n",
       "      <th>m_jjj</th>\n",
       "      <th>m_lv</th>\n",
       "      <th>m_jlv</th>\n",
       "      <th>m_bb</th>\n",
       "      <th>m_wbb</th>\n",
       "      <th>m_wwbb</th>\n",
       "    </tr>\n",
       "  </thead>\n",
       "  <tbody>\n",
       "    <tr>\n",
       "      <th>3</th>\n",
       "      <td>0.0</td>\n",
       "      <td>1.344385</td>\n",
       "      <td>-0.876626</td>\n",
       "      <td>0.935913</td>\n",
       "      <td>1.992050</td>\n",
       "      <td>0.882454</td>\n",
       "      <td>1.786066</td>\n",
       "      <td>-1.646778</td>\n",
       "      <td>-0.942383</td>\n",
       "      <td>0.000000</td>\n",
       "      <td>...</td>\n",
       "      <td>-0.678379</td>\n",
       "      <td>-1.360356</td>\n",
       "      <td>0.000000</td>\n",
       "      <td>0.946652</td>\n",
       "      <td>1.028704</td>\n",
       "      <td>0.998656</td>\n",
       "      <td>0.728281</td>\n",
       "      <td>0.869200</td>\n",
       "      <td>1.026736</td>\n",
       "      <td>0.957904</td>\n",
       "    </tr>\n",
       "    <tr>\n",
       "      <th>5</th>\n",
       "      <td>0.0</td>\n",
       "      <td>1.595839</td>\n",
       "      <td>-0.607811</td>\n",
       "      <td>0.007075</td>\n",
       "      <td>1.818450</td>\n",
       "      <td>-0.111906</td>\n",
       "      <td>0.847550</td>\n",
       "      <td>-0.566437</td>\n",
       "      <td>1.581239</td>\n",
       "      <td>2.173076</td>\n",
       "      <td>...</td>\n",
       "      <td>-0.654227</td>\n",
       "      <td>-1.274345</td>\n",
       "      <td>3.101961</td>\n",
       "      <td>0.823761</td>\n",
       "      <td>0.938191</td>\n",
       "      <td>0.971758</td>\n",
       "      <td>0.789176</td>\n",
       "      <td>0.430553</td>\n",
       "      <td>0.961357</td>\n",
       "      <td>0.957818</td>\n",
       "    </tr>\n",
       "    <tr>\n",
       "      <th>11</th>\n",
       "      <td>0.0</td>\n",
       "      <td>0.739357</td>\n",
       "      <td>-0.178290</td>\n",
       "      <td>0.829934</td>\n",
       "      <td>0.504539</td>\n",
       "      <td>-0.130217</td>\n",
       "      <td>0.961051</td>\n",
       "      <td>-0.355518</td>\n",
       "      <td>-1.717399</td>\n",
       "      <td>2.173076</td>\n",
       "      <td>...</td>\n",
       "      <td>0.774065</td>\n",
       "      <td>0.398820</td>\n",
       "      <td>3.101961</td>\n",
       "      <td>0.944536</td>\n",
       "      <td>1.026261</td>\n",
       "      <td>0.982197</td>\n",
       "      <td>0.542115</td>\n",
       "      <td>1.250979</td>\n",
       "      <td>0.830045</td>\n",
       "      <td>0.761308</td>\n",
       "    </tr>\n",
       "    <tr>\n",
       "      <th>15</th>\n",
       "      <td>0.0</td>\n",
       "      <td>0.547014</td>\n",
       "      <td>-0.349709</td>\n",
       "      <td>-0.646657</td>\n",
       "      <td>2.040462</td>\n",
       "      <td>0.276457</td>\n",
       "      <td>0.544697</td>\n",
       "      <td>0.838699</td>\n",
       "      <td>1.728703</td>\n",
       "      <td>0.000000</td>\n",
       "      <td>...</td>\n",
       "      <td>-0.629242</td>\n",
       "      <td>1.570795</td>\n",
       "      <td>3.101961</td>\n",
       "      <td>0.689434</td>\n",
       "      <td>0.867230</td>\n",
       "      <td>1.082488</td>\n",
       "      <td>0.664142</td>\n",
       "      <td>0.354115</td>\n",
       "      <td>0.579945</td>\n",
       "      <td>0.817273</td>\n",
       "    </tr>\n",
       "    <tr>\n",
       "      <th>17</th>\n",
       "      <td>0.0</td>\n",
       "      <td>1.057976</td>\n",
       "      <td>-0.160759</td>\n",
       "      <td>-0.194997</td>\n",
       "      <td>2.705023</td>\n",
       "      <td>-0.751477</td>\n",
       "      <td>1.909919</td>\n",
       "      <td>-1.031845</td>\n",
       "      <td>0.864986</td>\n",
       "      <td>0.000000</td>\n",
       "      <td>...</td>\n",
       "      <td>-0.714190</td>\n",
       "      <td>1.505315</td>\n",
       "      <td>3.101961</td>\n",
       "      <td>0.954494</td>\n",
       "      <td>0.651039</td>\n",
       "      <td>1.124950</td>\n",
       "      <td>0.894001</td>\n",
       "      <td>0.672173</td>\n",
       "      <td>1.182358</td>\n",
       "      <td>1.316304</td>\n",
       "    </tr>\n",
       "    <tr>\n",
       "      <th>...</th>\n",
       "      <td>...</td>\n",
       "      <td>...</td>\n",
       "      <td>...</td>\n",
       "      <td>...</td>\n",
       "      <td>...</td>\n",
       "      <td>...</td>\n",
       "      <td>...</td>\n",
       "      <td>...</td>\n",
       "      <td>...</td>\n",
       "      <td>...</td>\n",
       "      <td>...</td>\n",
       "      <td>...</td>\n",
       "      <td>...</td>\n",
       "      <td>...</td>\n",
       "      <td>...</td>\n",
       "      <td>...</td>\n",
       "      <td>...</td>\n",
       "      <td>...</td>\n",
       "      <td>...</td>\n",
       "      <td>...</td>\n",
       "      <td>...</td>\n",
       "    </tr>\n",
       "    <tr>\n",
       "      <th>10999991</th>\n",
       "      <td>0.0</td>\n",
       "      <td>0.745579</td>\n",
       "      <td>1.280715</td>\n",
       "      <td>1.610624</td>\n",
       "      <td>1.407681</td>\n",
       "      <td>-1.290670</td>\n",
       "      <td>0.710506</td>\n",
       "      <td>-2.288447</td>\n",
       "      <td>0.242977</td>\n",
       "      <td>0.000000</td>\n",
       "      <td>...</td>\n",
       "      <td>0.554200</td>\n",
       "      <td>-0.567942</td>\n",
       "      <td>3.101961</td>\n",
       "      <td>4.994084</td>\n",
       "      <td>2.633978</td>\n",
       "      <td>0.992359</td>\n",
       "      <td>0.919754</td>\n",
       "      <td>0.554145</td>\n",
       "      <td>1.942972</td>\n",
       "      <td>2.156090</td>\n",
       "    </tr>\n",
       "    <tr>\n",
       "      <th>10999992</th>\n",
       "      <td>0.0</td>\n",
       "      <td>1.861934</td>\n",
       "      <td>-0.382824</td>\n",
       "      <td>-1.608232</td>\n",
       "      <td>0.463761</td>\n",
       "      <td>-1.487331</td>\n",
       "      <td>1.222498</td>\n",
       "      <td>-0.409981</td>\n",
       "      <td>0.209160</td>\n",
       "      <td>1.086538</td>\n",
       "      <td>...</td>\n",
       "      <td>2.327280</td>\n",
       "      <td>-0.411454</td>\n",
       "      <td>0.000000</td>\n",
       "      <td>1.622553</td>\n",
       "      <td>0.948682</td>\n",
       "      <td>0.992321</td>\n",
       "      <td>1.476622</td>\n",
       "      <td>0.762673</td>\n",
       "      <td>1.014429</td>\n",
       "      <td>1.134126</td>\n",
       "    </tr>\n",
       "    <tr>\n",
       "      <th>10999993</th>\n",
       "      <td>0.0</td>\n",
       "      <td>1.295887</td>\n",
       "      <td>0.844377</td>\n",
       "      <td>-0.175577</td>\n",
       "      <td>0.387535</td>\n",
       "      <td>0.474692</td>\n",
       "      <td>0.842603</td>\n",
       "      <td>1.032784</td>\n",
       "      <td>1.593436</td>\n",
       "      <td>1.086538</td>\n",
       "      <td>...</td>\n",
       "      <td>0.237727</td>\n",
       "      <td>1.665130</td>\n",
       "      <td>0.000000</td>\n",
       "      <td>0.225949</td>\n",
       "      <td>0.760873</td>\n",
       "      <td>0.990706</td>\n",
       "      <td>1.063958</td>\n",
       "      <td>1.389086</td>\n",
       "      <td>0.926022</td>\n",
       "      <td>0.812035</td>\n",
       "    </tr>\n",
       "    <tr>\n",
       "      <th>10999998</th>\n",
       "      <td>0.0</td>\n",
       "      <td>1.178030</td>\n",
       "      <td>0.117796</td>\n",
       "      <td>-1.276980</td>\n",
       "      <td>1.864457</td>\n",
       "      <td>-0.584370</td>\n",
       "      <td>0.998519</td>\n",
       "      <td>-1.264549</td>\n",
       "      <td>1.276333</td>\n",
       "      <td>0.000000</td>\n",
       "      <td>...</td>\n",
       "      <td>1.399515</td>\n",
       "      <td>-1.313189</td>\n",
       "      <td>0.000000</td>\n",
       "      <td>0.838842</td>\n",
       "      <td>0.882890</td>\n",
       "      <td>1.201380</td>\n",
       "      <td>0.939216</td>\n",
       "      <td>0.339705</td>\n",
       "      <td>0.759070</td>\n",
       "      <td>0.719119</td>\n",
       "    </tr>\n",
       "    <tr>\n",
       "      <th>10999999</th>\n",
       "      <td>0.0</td>\n",
       "      <td>0.464477</td>\n",
       "      <td>-0.337047</td>\n",
       "      <td>0.229019</td>\n",
       "      <td>0.954596</td>\n",
       "      <td>-0.868466</td>\n",
       "      <td>0.430004</td>\n",
       "      <td>-0.271348</td>\n",
       "      <td>-1.252278</td>\n",
       "      <td>2.173076</td>\n",
       "      <td>...</td>\n",
       "      <td>-1.652782</td>\n",
       "      <td>-0.586254</td>\n",
       "      <td>0.000000</td>\n",
       "      <td>0.752535</td>\n",
       "      <td>0.740727</td>\n",
       "      <td>0.986917</td>\n",
       "      <td>0.663952</td>\n",
       "      <td>0.576084</td>\n",
       "      <td>0.541427</td>\n",
       "      <td>0.517420</td>\n",
       "    </tr>\n",
       "  </tbody>\n",
       "</table>\n",
       "<p>5170877 rows × 29 columns</p>\n",
       "</div>"
      ],
      "text/plain": [
       "          signal  lepton_pT  lepton_eta  lepton_phi  missing_energy_magnitude  \\\n",
       "3            0.0   1.344385   -0.876626    0.935913                  1.992050   \n",
       "5            0.0   1.595839   -0.607811    0.007075                  1.818450   \n",
       "11           0.0   0.739357   -0.178290    0.829934                  0.504539   \n",
       "15           0.0   0.547014   -0.349709   -0.646657                  2.040462   \n",
       "17           0.0   1.057976   -0.160759   -0.194997                  2.705023   \n",
       "...          ...        ...         ...         ...                       ...   \n",
       "10999991     0.0   0.745579    1.280715    1.610624                  1.407681   \n",
       "10999992     0.0   1.861934   -0.382824   -1.608232                  0.463761   \n",
       "10999993     0.0   1.295887    0.844377   -0.175577                  0.387535   \n",
       "10999998     0.0   1.178030    0.117796   -1.276980                  1.864457   \n",
       "10999999     0.0   0.464477   -0.337047    0.229019                  0.954596   \n",
       "\n",
       "          missing_energy_phi  jet_1_pt  jet_1_eta  jet_1_phi  jet_1_b-tag  \\\n",
       "3                   0.882454  1.786066  -1.646778  -0.942383     0.000000   \n",
       "5                  -0.111906  0.847550  -0.566437   1.581239     2.173076   \n",
       "11                 -0.130217  0.961051  -0.355518  -1.717399     2.173076   \n",
       "15                  0.276457  0.544697   0.838699   1.728703     0.000000   \n",
       "17                 -0.751477  1.909919  -1.031845   0.864986     0.000000   \n",
       "...                      ...       ...        ...        ...          ...   \n",
       "10999991           -1.290670  0.710506  -2.288447   0.242977     0.000000   \n",
       "10999992           -1.487331  1.222498  -0.409981   0.209160     1.086538   \n",
       "10999993            0.474692  0.842603   1.032784   1.593436     1.086538   \n",
       "10999998           -0.584370  0.998519  -1.264549   1.276333     0.000000   \n",
       "10999999           -0.868466  0.430004  -0.271348  -1.252278     2.173076   \n",
       "\n",
       "          ...  jet 4 eta  jet 4 phi  jet 4 b-tag      m_jj     m_jjj  \\\n",
       "3         ...  -0.678379  -1.360356     0.000000  0.946652  1.028704   \n",
       "5         ...  -0.654227  -1.274345     3.101961  0.823761  0.938191   \n",
       "11        ...   0.774065   0.398820     3.101961  0.944536  1.026261   \n",
       "15        ...  -0.629242   1.570795     3.101961  0.689434  0.867230   \n",
       "17        ...  -0.714190   1.505315     3.101961  0.954494  0.651039   \n",
       "...       ...        ...        ...          ...       ...       ...   \n",
       "10999991  ...   0.554200  -0.567942     3.101961  4.994084  2.633978   \n",
       "10999992  ...   2.327280  -0.411454     0.000000  1.622553  0.948682   \n",
       "10999993  ...   0.237727   1.665130     0.000000  0.225949  0.760873   \n",
       "10999998  ...   1.399515  -1.313189     0.000000  0.838842  0.882890   \n",
       "10999999  ...  -1.652782  -0.586254     0.000000  0.752535  0.740727   \n",
       "\n",
       "              m_lv     m_jlv      m_bb     m_wbb    m_wwbb  \n",
       "3         0.998656  0.728281  0.869200  1.026736  0.957904  \n",
       "5         0.971758  0.789176  0.430553  0.961357  0.957818  \n",
       "11        0.982197  0.542115  1.250979  0.830045  0.761308  \n",
       "15        1.082488  0.664142  0.354115  0.579945  0.817273  \n",
       "17        1.124950  0.894001  0.672173  1.182358  1.316304  \n",
       "...            ...       ...       ...       ...       ...  \n",
       "10999991  0.992359  0.919754  0.554145  1.942972  2.156090  \n",
       "10999992  0.992321  1.476622  0.762673  1.014429  1.134126  \n",
       "10999993  0.990706  1.063958  1.389086  0.926022  0.812035  \n",
       "10999998  1.201380  0.939216  0.339705  0.759070  0.719119  \n",
       "10999999  0.986917  0.663952  0.576084  0.541427  0.517420  \n",
       "\n",
       "[5170877 rows x 29 columns]"
      ]
     },
     "execution_count": 50,
     "metadata": {},
     "output_type": "execute_result"
    }
   ],
   "source": [
    "dfa_bkg"
   ]
  },
  {
   "cell_type": "code",
   "execution_count": 57,
   "metadata": {},
   "outputs": [
    {
     "name": "stdout",
     "output_type": "stream",
     "text": [
      "['lepton_pT', 'lepton_eta', 'lepton_phi', 'missing_energy_magnitude', 'missing_energy_phi', 'jet_1_pt', 'jet_1_eta', 'jet_1_phi', 'jet_1_b-tag', 'jet_2_pt', 'jet_2_eta', 'jet 2 phi', 'jet 2 b-tag', 'jet 3 pt', 'jet 3 eta', 'jet 3 phi', 'jet 3 b-tag', 'jet 4 pt', 'jet 4 eta', 'jet 4 phi', 'jet 4 b-tag', 'm_jj', 'm_jjj', 'm_lv', 'm_jlv', 'm_bb', 'm_wbb', 'm_wwbb']\n"
     ]
    }
   ],
   "source": [
    "print(datvariables[1:])"
   ]
  },
  {
   "cell_type": "code",
   "execution_count": 56,
   "metadata": {},
   "outputs": [
    {
     "data": {
      "image/png": "[encoded data removed]",
      "text/plain": [
       "<Figure size 1440x1440 with 25 Axes>"
      ]
     },
     "metadata": {
      "needs_background": "light"
     },
     "output_type": "display_data"
    }
   ],
   "source": [
    "betterplots(dfa, 20)"
   ]
  },
  {
   "cell_type": "code",
   "execution_count": null,
   "metadata": {},
   "outputs": [],
   "source": []
  }
 ],
 "metadata": {
  "kernelspec": {
   "display_name": "Python 3",
   "language": "python",
   "name": "python3"
  },
  "language_info": {
   "codemirror_mode": {
    "name": "ipython",
    "version": 3
   },
   "file_extension": ".py",
   "mimetype": "text/x-python",
   "name": "python",
   "nbconvert_exporter": "python",
   "pygments_lexer": "ipython3",
   "version": "3.8.5"
  }
 },
 "nbformat": 4,
 "nbformat_minor": 2
}
